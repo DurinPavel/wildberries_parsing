{
  "nbformat": 4,
  "nbformat_minor": 0,
  "metadata": {
    "colab": {
      "provenance": []
    },
    "kernelspec": {
      "name": "python3",
      "display_name": "Python 3"
    },
    "language_info": {
      "name": "python"
    }
  },
  "cells": [
    {
      "cell_type": "code",
      "source": [
        "import pandas as pd\n",
        "import json\n",
        "import time\n",
        "from selenium import webdriver\n",
        "from browsermobproxy import Server\n",
        "from selenium.webdriver.chrome.options import Options"
      ],
      "metadata": {
        "id": "cnDvKEpb0THT"
      },
      "execution_count": null,
      "outputs": []
    },
    {
      "cell_type": "code",
      "source": [
        "# Launch the proxy server, specify the full installation path:\n",
        "# Запускаем proxy сервер, указываем полный путь установки:\n",
        "server = Server('C:/Users/.../.../Jupyter Notebook/driver/\\\n",
        "                 browsermob-proxy-2.1.4/bin/browsermob-proxy')\n",
        "server.start()\n",
        "proxy = server.create_proxy()\n",
        "# Configuring webdriver, including ignoring certificate errors:\n",
        "# Настраиваем webdriver, в том числе на игнорирование ошибок сертификатов:\n",
        "chrome_options = Options()\n",
        "chrome_options.add_argument('--ignore-certificate-errors')\n",
        "chrome_options.add_argument('--proxy-server={0}'.format(proxy.proxy))\n",
        "driver = webdriver.Chrome(options=chrome_options)"
      ],
      "metadata": {
        "id": "CAUEb6Ok0WdN"
      },
      "execution_count": null,
      "outputs": []
    },
    {
      "cell_type": "code",
      "source": [
        "def catalog_list_url():\n",
        "    \"\"\"\n",
        "    This function gets a complete list of links to the product catalog by\n",
        "    capturing the json file of the directory from the XHR request passing\n",
        "    through the proxy \"localhost\".\n",
        "    ===========================================================================\n",
        "    ===========================================================================\n",
        "    Данная функция получает полный список ссылок на каталог товаров, захватывая\n",
        "    json-файл каталога из XHR запроса, проходящего через proxy \"localhost\".\n",
        "    \"\"\"\n",
        "    url = 'https://www.wildberries.ru'\n",
        "    proxy.new_har(options={\n",
        "        'captureContent': True,\n",
        "        'captureHeaders': True\n",
        "    })\n",
        "    driver.get(url)\n",
        "    time.sleep(15)\n",
        "    # Getting the catalog:\n",
        "    # Получаем каталог:\n",
        "    catalog_result = proxy.har['log']['entries']\n",
        "    catalog_list = []\n",
        "\n",
        "    for catalog_record in catalog_result:\n",
        "        if 'main-menu-ru-ru' in catalog_record['request']['url']:\n",
        "            record_url = (\n",
        "                json.loads(catalog_record['response']['content']['text'])\n",
        "                )\n",
        "            for record in record_url:\n",
        "                try:\n",
        "                    for child in record['childs']:\n",
        "                        try:\n",
        "                            if child['url']:\n",
        "                                catalog_list.append(url + child['url'])\n",
        "                            else:\n",
        "                                continue\n",
        "                        except:\n",
        "                            continue\n",
        "                        try:\n",
        "                            for sub_child in child['childs']:\n",
        "                                if sub_child['url']:\n",
        "                                    catalog_list.append(url + sub_child['url'])\n",
        "                                else:\n",
        "                                    continue\n",
        "                        except:\n",
        "                            continue\n",
        "                except:\n",
        "                    continue\n",
        "            return catalog_list"
      ],
      "metadata": {
        "id": "3h04YbJU0ZEX"
      },
      "execution_count": null,
      "outputs": []
    },
    {
      "cell_type": "code",
      "source": [
        "def list_of_products():\n",
        "    \"\"\"\n",
        "    This function obtains product data by capturing a json file from XHR\n",
        "    request passing through the proxy \"localhost\", and adds them to the\n",
        "    dataframe. As a consequence of the fact that Wildberries issues a maximum\n",
        "    of 100 pages of products of one groups - in the range loop,\n",
        "    we set the stop to 101.\n",
        "    ==========================================================================\n",
        "    ==========================================================================\n",
        "    Данная функция получает данные о товарах захватывая json-файл из XHR\n",
        "    запроса, проходящего через proxy \"localhost\", и добавляет их в датафрейм.\n",
        "    В следсвие того, что Wildberries выдает максимум 100 страниц товаров одной\n",
        "    группы - в цикле range выставляем стоп на 101.\n",
        "    \"\"\"\n",
        "    products_list = []\n",
        "    product_table = pd.DataFrame()\n",
        "    for base_url in catalog_list_url():\n",
        "        try:\n",
        "            for i in range(1, 101):\n",
        "                proxy.new_har(options={\n",
        "                    'captureContent': True,\n",
        "                    'captureHeaders': True\n",
        "                    })\n",
        "                driver.get(base_url + '?page=' + str(i))\n",
        "                time.sleep(5)\n",
        "                base_result = proxy.har['log']['entries']\n",
        "                try:\n",
        "                    for meaning in base_result:\n",
        "                        if 'catalog?app' in meaning['request']['url'] \\\n",
        "                        and '&emp' not in meaning['request']['url']:\n",
        "                            products_list.extend(\n",
        "                                json.loads(\n",
        "                                    meaning['response']['content']['text']\n",
        "                                    )['data']['products']\n",
        "                                )\n",
        "                except:\n",
        "                    continue\n",
        "        except:\n",
        "            continue\n",
        "        # We go through each product and collect the data we are interested in:\n",
        "        # Проходимся по каждому товару и собираем интересующие нас данные:\n",
        "        for product in products_list:\n",
        "            row = {'Артикул': product['id'], 'Бренд': product['brand'],\n",
        "                   'Наименование товара': product['name'],\n",
        "                   'Цена без скидки (RU)': int(product['priceU']) / 100,\n",
        "                   'Скидка (%)': product['sale'],\n",
        "                   'Цена со скидкой (RU)': int(product['salePriceU']) / 100}\n",
        "            # Forming a dataframe:\n",
        "            # Формируем датафрейм:\n",
        "            product_table = (\n",
        "                pd.concat(\n",
        "                    [product_table, pd.DataFrame([row])]\n",
        "                    )\n",
        "                .drop_duplicates()\n",
        "                )\n",
        "    driver.quit()\n",
        "    server.stop()\n",
        "    return product_table.reset_index(drop=True)\n",
        "list_of_products()"
      ],
      "metadata": {
        "id": "pbEWvl_C0cB5"
      },
      "execution_count": null,
      "outputs": []
    }
  ]
}